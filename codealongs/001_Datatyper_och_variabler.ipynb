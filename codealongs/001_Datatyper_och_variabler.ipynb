{
 "cells": [
  {
   "cell_type": "code",
   "execution_count": null,
   "metadata": {},
   "outputs": [],
   "source": [
    "1.#Data types\n",
    "2. String (text)\n",
    "3. int(integer,sv. helta)\n",
    "4. float(floating point, sv flyttal (decimaltal))\n",
    "5. Bool (boolen, True/False)"
   ]
  },
  {
   "cell_type": "code",
   "execution_count": 3,
   "metadata": {},
   "outputs": [
    {
     "name": "stdout",
     "output_type": "stream",
     "text": [
      "fredrik\n",
      "8\n",
      "3.14\n",
      "True\n"
     ]
    }
   ],
   "source": [
    "name = \"fredrik\"\n",
    "print(name)\n",
    "\n",
    "myint = 8\n",
    "print(myint)\n",
    "\n",
    "myfloat = 3.14\n",
    "print(myfloat)\n",
    "\n",
    "mybool = True\n",
    "print(mybool)"
   ]
  },
  {
   "cell_type": "code",
   "execution_count": 4,
   "metadata": {},
   "outputs": [
    {
     "ename": "SyntaxError",
     "evalue": "invalid syntax (2598437847.py, line 1)",
     "output_type": "error",
     "traceback": [
      "\u001b[1;36m  Cell \u001b[1;32mIn[4], line 1\u001b[1;36m\u001b[0m\n\u001b[1;33m    literal values\u001b[0m\n\u001b[1;37m            ^\u001b[0m\n\u001b[1;31mSyntaxError\u001b[0m\u001b[1;31m:\u001b[0m invalid syntax\n"
     ]
    }
   ],
   "source": [
    "Literial Values\n",
    "\n",
    "#\"HELLO\" - **String** Can use single or double quotes Case-sensitiv"
   ]
  },
  {
   "cell_type": "code",
   "execution_count": null,
   "metadata": {},
   "outputs": [],
   "source": [
    "#Variabler\n",
    "Case-sensitive\n",
    "created when first assigned , doesnt need to be declared \n",
    "-Dynmic typing ,type is referred from assignment, can be retyped\n",
    "cast type with: strl().int(). float. bool()\n",
    "\n"
   ]
  },
  {
   "cell_type": "code",
   "execution_count": 5,
   "metadata": {},
   "outputs": [
    {
     "name": "stdout",
     "output_type": "stream",
     "text": [
      "\n"
     ]
    }
   ],
   "source": [
    "name = input()\n",
    "print(name)\n",
    "print(int(name)+ 5)"
   ]
  },
  {
   "cell_type": "code",
   "execution_count": null,
   "metadata": {},
   "outputs": [],
   "source": []
  },
  {
   "cell_type": "code",
   "execution_count": null,
   "metadata": {},
   "outputs": [],
   "source": [
    "Aritmetic operators\n",
    "\n",
    "Addition\n",
    "subtration\n",
    "division\n",
    "multiplication\n",
    "floor division\n",
    "Modules\n"
   ]
  },
  {
   "cell_type": "code",
   "execution_count": null,
   "metadata": {},
   "outputs": [],
   "source": [
    "Comparison operator (sv.jämförelseoperatorer)\n",
    "\n",
    "Equals ==\n",
    "not equal\n",
    "less or qual"
   ]
  },
  {
   "cell_type": "code",
   "execution_count": null,
   "metadata": {},
   "outputs": [],
   "source": [
    "Logical operators \n",
    "\n",
    "and (true if both are true)\n",
    "or (true if one or both are True)\n",
    "not(true if false, false if true)"
   ]
  }
 ],
 "metadata": {
  "kernelspec": {
   "display_name": "Python 3",
   "language": "python",
   "name": "python3"
  },
  "language_info": {
   "codemirror_mode": {
    "name": "ipython",
    "version": 3
   },
   "file_extension": ".py",
   "mimetype": "text/x-python",
   "name": "python",
   "nbconvert_exporter": "python",
   "pygments_lexer": "ipython3",
   "version": "3.11.5"
  },
  "orig_nbformat": 4
 },
 "nbformat": 4,
 "nbformat_minor": 2
}

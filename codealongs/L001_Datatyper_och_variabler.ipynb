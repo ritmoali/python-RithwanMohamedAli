{
 "cells": [
  {
   "cell_type": "markdown",
   "metadata": {},
   "source": [
    "1. # Data types\n",
    "2. - **String** (text)\n",
    "3. - **in**t(integer,sv. helta)\n",
    "4. - **float**(floating point, sv flyttal (decimaltal))\n",
    "5. - **Bool** (boolen, True/False)"
   ]
  },
  {
   "cell_type": "code",
   "execution_count": 2,
   "metadata": {},
   "outputs": [
    {
     "name": "stdout",
     "output_type": "stream",
     "text": [
      "fredrik\n",
      "8\n",
      "3.14\n",
      "True\n"
     ]
    },
    {
     "data": {
      "text/plain": [
       "bool"
      ]
     },
     "execution_count": 2,
     "metadata": {},
     "output_type": "execute_result"
    }
   ],
   "source": [
    "name = \"fredrik\"\n",
    "print(name)\n",
    "\n",
    "myint = 8\n",
    "print(myint)\n",
    "\n",
    "myfloat = 3.14\n",
    "print(myfloat)\n",
    "\n",
    "mybool = True\n",
    "print(mybool)\n",
    "\n",
    "type(mybool)"
   ]
  },
  {
   "cell_type": "markdown",
   "metadata": {},
   "source": [
    "1. Literial Values\n",
    "\n",
    "2. \"HELLO\" - **String** Can use single or double quotes Case-sensitive.\n",
    "3. 5 **integer** \n",
    "4. 4.5 **float**\n",
    "5. True **Bool**. Can be True or false\n",
    "\n"
   ]
  },
  {
   "cell_type": "markdown",
   "metadata": {},
   "source": [
    "1. # Variabler\n",
    "2. - Case-sensitive\n",
    "3. - created when first assigned , doesnt need to be declared \n",
    "4. - Dynmic typing ,type is referred from assignment, can be re-typed\n",
    "5. - Cast type with: strl().int(). float. bool()\n",
    "6. - Get type with: type()\n",
    "7. - use del() to delete variables"
   ]
  },
  {
   "cell_type": "code",
   "execution_count": 1,
   "metadata": {},
   "outputs": [
    {
     "name": "stdout",
     "output_type": "stream",
     "text": [
      "58\n",
      "<class 'str'>\n",
      "<class 'int'>\n",
      "56\n",
      "False\n"
     ]
    }
   ],
   "source": [
    "mynumber = \"56\"\n",
    "mynumber2 = int(mynumber)\n",
    "print(mynumber2 + 2)\n",
    "\n",
    "\n",
    "\n",
    "print(type(mynumber))\n",
    "print(type(mynumber2))\n",
    "\n",
    "#del(mynumber2)\n",
    "print(mynumber2)\n",
    "\n",
    "# Casting string to bool => false for emty string, true for not emty string \n",
    "\n",
    "# Casting numeric to bool =>  false for zero, true for not zero\n",
    "print( bool(0))"
   ]
  },
  {
   "cell_type": "code",
   "execution_count": 16,
   "metadata": {},
   "outputs": [
    {
     "ename": "TypeError",
     "evalue": "can only concatenate str (not \"int\") to str",
     "output_type": "error",
     "traceback": [
      "\u001b[0;31m---------------------------------------------------------------------------\u001b[0m",
      "\u001b[0;31mTypeError\u001b[0m                                 Traceback (most recent call last)",
      "\u001b[1;32m/Users/rithwanali/Documents/pyhton1/python-RithwanMohamedAli/codealongs/001_Datatyper_och_variabler.ipynb Cell 6\u001b[0m line \u001b[0;36m2\n\u001b[1;32m      <a href='vscode-notebook-cell:/Users/rithwanali/Documents/pyhton1/python-RithwanMohamedAli/codealongs/001_Datatyper_och_variabler.ipynb#X21sZmlsZQ%3D%3D?line=0'>1</a>\u001b[0m name \u001b[39m=\u001b[39m \u001b[39minput\u001b[39m(\u001b[39m\"\u001b[39m\u001b[39mEnter your name: \u001b[39m\u001b[39m\"\u001b[39m)\n\u001b[0;32m----> <a href='vscode-notebook-cell:/Users/rithwanali/Documents/pyhton1/python-RithwanMohamedAli/codealongs/001_Datatyper_och_variabler.ipynb#X21sZmlsZQ%3D%3D?line=1'>2</a>\u001b[0m \u001b[39mprint\u001b[39m(\u001b[39mint\u001b[39m(name \u001b[39m+\u001b[39;49m\u001b[39m5\u001b[39;49m ))\n",
      "\u001b[0;31mTypeError\u001b[0m: can only concatenate str (not \"int\") to str"
     ]
    }
   ],
   "source": [
    "name = input(\"Enter your name: \")\n",
    "print(int(name +5 ))"
   ]
  },
  {
   "cell_type": "code",
   "execution_count": 15,
   "metadata": {},
   "outputs": [
    {
     "name": "stdout",
     "output_type": "stream",
     "text": [
      "5\n",
      "10\n"
     ]
    }
   ],
   "source": [
    "name = input()\n",
    "print(name)\n",
    "print(int(name)+ 5)"
   ]
  }
 ],
 "metadata": {
  "kernelspec": {
   "display_name": "Python 3",
   "language": "python",
   "name": "python3"
  },
  "language_info": {
   "codemirror_mode": {
    "name": "ipython",
    "version": 3
   },
   "file_extension": ".py",
   "mimetype": "text/x-python",
   "name": "python",
   "nbconvert_exporter": "python",
   "pygments_lexer": "ipython3",
   "version": "3.11.5"
  },
  "orig_nbformat": 4
 },
 "nbformat": 4,
 "nbformat_minor": 2
}

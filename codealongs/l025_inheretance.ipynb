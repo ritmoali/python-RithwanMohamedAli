{
 "cells": [
  {
   "cell_type": "markdown",
   "metadata": {},
   "source": [
    "# inheritence"
   ]
  },
  {
   "cell_type": "code",
   "execution_count": 47,
   "metadata": {},
   "outputs": [
    {
     "name": "stdout",
     "output_type": "stream",
     "text": [
      "name is moving\n",
      "this is an animal\n",
      "name is moving\n",
      "this is an animal\n",
      "nemo is swimming\n",
      "this is an animal\n",
      "name is moving\n",
      "this is an animal\n"
     ]
    }
   ],
   "source": [
    "class Animal: \n",
    "    def __init__(self, name):\n",
    "        self.name = name\n",
    "\n",
    "    def __str__(self):\n",
    "        return f\"My name is {self.name} and i am a {type(self)}\" \n",
    "    def run(self):\n",
    "        print(f\"My name is {self.name} is running.\")\n",
    "    \n",
    "    def move(self):\n",
    "        print(f\"name is moving\")\n",
    "\n",
    "class Fish(Animal):\n",
    "    # Method override\n",
    "    def move(self):\n",
    "        print(f\"{self.name} is swimming\")\n",
    "\n",
    "\n",
    "\n",
    "class Cat(Animal): \n",
    "    ...\n",
    "\n",
    "class Dog(Animal):\n",
    "    def __init__(self, name, is_loud):\n",
    "        super().__init__(name)\n",
    "        self._is_loud = is_loud\n",
    "    \n",
    "    def _get_voff(upper):\n",
    "        return \"VOOF\" if upper else \"voff\"\n",
    "\n",
    "    def __repr__(self):\n",
    "        return f\"My name is {self.name} and I an a {type(self)}\"\n",
    "    \n",
    "    def bark(self):\n",
    "        if self._is_loud:\n",
    "            print(f\"{self.name} is barking: Voof\")   \n",
    "\n",
    "animals = [\n",
    "    Cat(\"pelle\"),\n",
    "    Dog(\"karo\", is_loud = True),\n",
    "    Fish(\"nemo\"),\n",
    "    Dog(\"Kalle\", is_loud = False)\n",
    "]\n",
    "\n",
    " \n",
    "for animal in animals:\n",
    "    animal.move()\n",
    "\n",
    "    #if hasattr(animal)\n",
    "    #if type(animal) == Dog:\n",
    "    if isinstance(animal, Animal):\n",
    "        print(\"this is an animal\")"
   ]
  },
  {
   "cell_type": "code",
   "execution_count": 38,
   "metadata": {},
   "outputs": [
    {
     "name": "stdout",
     "output_type": "stream",
     "text": [
      "isinstance(my_cat, Cat) = True\n",
      "<built-in function isinstance>\n"
     ]
    }
   ],
   "source": [
    "my_cat = Cat(\"Pelle\")\n",
    "print(f\"{isinstance(my_cat, Cat) = }\")\n",
    "print(f\"{isinstance(my_cat, Animal) = }\")\n",
    "print(f\"{isinstance(my_cat, object) = }\")"
   ]
  },
  {
   "cell_type": "code",
   "execution_count": 40,
   "metadata": {},
   "outputs": [
    {
     "name": "stdout",
     "output_type": "stream",
     "text": [
      "isinstance(Dog, Cat) = False\n",
      "isinstance(Cat, Animal) = False\n",
      "isinstance(Cat, object) = True\n",
      "isinstance(Animal, Cat) = False\n"
     ]
    }
   ],
   "source": [
    "print(f\"{isinstance(Dog, Cat) = }\")\n",
    "print(f\"{isinstance(Cat, Animal) = }\")\n",
    "print(f\"{isinstance(Cat, object) = }\")\n",
    "print(f\"{isinstance(Animal, Cat) = }\")\n",
    "\n"
   ]
  },
  {
   "cell_type": "code",
   "execution_count": 48,
   "metadata": {},
   "outputs": [
    {
     "ename": "ZeroDivisionError",
     "evalue": "division by zero",
     "output_type": "error",
     "traceback": [
      "\u001b[0;31m---------------------------------------------------------------------------\u001b[0m",
      "\u001b[0;31mZeroDivisionError\u001b[0m                         Traceback (most recent call last)",
      "\u001b[1;32m/Users/rithwanali/Documents/pyhton1/python-RithwanMohamedAli/codealongs/l025_inheretance.ipynb Cell 5\u001b[0m line \u001b[0;36m1\n\u001b[0;32m----> <a href='vscode-notebook-cell:/Users/rithwanali/Documents/pyhton1/python-RithwanMohamedAli/codealongs/l025_inheretance.ipynb#X10sZmlsZQ%3D%3D?line=0'>1</a>\u001b[0m \u001b[39m5\u001b[39;49m\u001b[39m/\u001b[39;49m\u001b[39m0\u001b[39;49m\n",
      "\u001b[0;31mZeroDivisionError\u001b[0m: division by zero"
     ]
    }
   ],
   "source": [
    "x = 0\n",
    "\n",
    "try:\n",
    "    5/x\n",
    "except Exception:\n",
    "    print(\"There was an error.\")"
   ]
  }
 ],
 "metadata": {
  "kernelspec": {
   "display_name": "Python 3",
   "language": "python",
   "name": "python3"
  },
  "language_info": {
   "codemirror_mode": {
    "name": "ipython",
    "version": 3
   },
   "file_extension": ".py",
   "mimetype": "text/x-python",
   "name": "python",
   "nbconvert_exporter": "python",
   "pygments_lexer": "ipython3",
   "version": "3.11.5"
  },
  "orig_nbformat": 4
 },
 "nbformat": 4,
 "nbformat_minor": 2
}

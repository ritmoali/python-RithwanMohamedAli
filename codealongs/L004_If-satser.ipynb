{
 "cells": [
  {
   "cell_type": "markdown",
   "metadata": {},
   "source": [
    "1. if statements\n",
    "2. **if** - Essential part of if-statement \n",
    "3. - **elif** - Zero, One, or More elif\n",
    "3. - **else** - Zero, One \n"
   ]
  },
  {
   "cell_type": "code",
   "execution_count": 6,
   "metadata": {},
   "outputs": [
    {
     "name": "stdout",
     "output_type": "stream",
     "text": [
      "Yes!\n",
      "True!\n"
     ]
    }
   ],
   "source": [
    "x = 5\n",
    "name = \"pelle\"\n",
    "\n",
    "\n",
    "\n",
    "if x < 10 or name == \"Fredrik\":\n",
    "    print(\"Yes!\")\n",
    "    print(\"True!\")\n",
    "\n",
    "elif name == \"Kalle\":\n",
    "    print(\"Hello Kalle!\")\n",
    "elif name == \"Pelle\":\n",
    "    print(\"hello Pelle!\")\n",
    "elif name == \"Anders\":\n",
    "    print(\"Hello Anders!\")\n",
    "\n",
    "else: \n",
    "    print(\"No!\")\n",
    "    print(\"False\") \n",
    "\n"
   ]
  },
  {
   "cell_type": "markdown",
   "metadata": {},
   "source": [
    "1. # On line if statement \n",
    "\n",
    "2. - When the if statement is followed by only one statement.\n"
   ]
  },
  {
   "cell_type": "code",
   "execution_count": null,
   "metadata": {},
   "outputs": [],
   "source": [
    "name = \"Fredrik\"\n",
    "\n",
    "if x < 10 or name == \"Fredrik\": print(\"yes!\")"
   ]
  },
  {
   "cell_type": "markdown",
   "metadata": {},
   "source": [
    "1. # Ternary operator\n",
    "2. # A special operator that take the three operands and return on those choices depending on if the middle expression evaluate to true or false (True/Value if expression else FalseValue)"
   ]
  },
  {
   "cell_type": "code",
   "execution_count": 7,
   "metadata": {},
   "outputs": [
    {
     "name": "stdout",
     "output_type": "stream",
     "text": [
      "Fred ???\n",
      "please wait 1 seconds  \n"
     ]
    }
   ],
   "source": [
    "name = \"Fred\"\n",
    "lastname = (\"Johansson\" if name == \"Fredrik\" else \"???\")\n",
    "\n",
    "print(f\"{name} {lastname}\")\n",
    "\n",
    "seconds = 1\n",
    "print(f\"please wait {seconds} seconds {'s' if seconds != 1 else ''} \")"
   ]
  }
 ],
 "metadata": {
  "kernelspec": {
   "display_name": "Python 3",
   "language": "python",
   "name": "python3"
  },
  "language_info": {
   "codemirror_mode": {
    "name": "ipython",
    "version": 3
   },
   "file_extension": ".py",
   "mimetype": "text/x-python",
   "name": "python",
   "nbconvert_exporter": "python",
   "pygments_lexer": "ipython3",
   "version": "3.11.5"
  },
  "orig_nbformat": 4
 },
 "nbformat": 4,
 "nbformat_minor": 2
}

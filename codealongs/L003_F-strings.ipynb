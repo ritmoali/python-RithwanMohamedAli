{
 "cells": [
  {
   "cell_type": "markdown",
   "metadata": {},
   "source": [
    "1. # F-string (formattted string literals)\n",
    "2. - literal starts with f of F.\n",
    "3. - Variables  or expressions can be inserted using ()\n",
    "4. - use after expressions to print expression and result (not only result)\n",
    "5. - "
   ]
  },
  {
   "cell_type": "code",
   "execution_count": 5,
   "metadata": {},
   "outputs": [
    {
     "name": "stdout",
     "output_type": "stream",
     "text": [
      "hello rithwan!\n",
      "5 + 8 = 13\n",
      "Hej 'Fredrik',\n",
      "Hej \"Fredrik\".\n",
      "Hej /\"Fredrik\".\n"
     ]
    }
   ],
   "source": [
    "name = input(\"Enter your name: \")\n",
    "mystring = f\"hello {name}!\"\n",
    "print(mystring) \n",
    "\n",
    "print(f\"{5 + 8 = }\")\n",
    "\n",
    "print(f\"Hej 'Fredrik',\")\n",
    "print(f'Hej \"Fredrik\".')\n",
    "print(f'Hej /\"Fredrik\".')"
   ]
  },
  {
   "cell_type": "code",
   "execution_count": 6,
   "metadata": {},
   "outputs": [
    {
     "name": "stdout",
     "output_type": "stream",
     "text": [
      "first_name          lastname \n"
     ]
    }
   ],
   "source": [
    "first_name = \"Fredrik\"\n",
    "laat_name = \"johanson\" \n",
    "\n",
    "\n",
    "print(f\"{'first_name':20}{'lastname'} \")"
   ]
  }
 ],
 "metadata": {
  "kernelspec": {
   "display_name": "Python 3",
   "language": "python",
   "name": "python3"
  },
  "language_info": {
   "codemirror_mode": {
    "name": "ipython",
    "version": 3
   },
   "file_extension": ".py",
   "mimetype": "text/x-python",
   "name": "python",
   "nbconvert_exporter": "python",
   "pygments_lexer": "ipython3",
   "version": "3.11.5"
  },
  "orig_nbformat": 4
 },
 "nbformat": 4,
 "nbformat_minor": 2
}

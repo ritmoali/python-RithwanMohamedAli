{
 "cells": [
  {
   "cell_type": "markdown",
   "metadata": {},
   "source": [
    "# object orienterad programming\n",
    "- a class is a blueprint thst can be used to create object\n",
    "- an instans is the actual object containing the data and methods\n"
   ]
  },
  {
   "cell_type": "code",
   "execution_count": null,
   "metadata": {},
   "outputs": [],
   "source": [
    "student_a = {\"FirstName\": \"Fredrik\", \"LastName\": \"Johansson\", \"Age\": 42, \"Grade\": 3.4}\n",
    "student_b = student_b = {\"FirstName\": \"Anna\", \"LastName\": \"Karlsson\", \"Age\": 24, \"Grade\": 4.2}\n"
   ]
  }
 ],
 "metadata": {
  "language_info": {
   "name": "python"
  },
  "orig_nbformat": 4
 },
 "nbformat": 4,
 "nbformat_minor": 2
}

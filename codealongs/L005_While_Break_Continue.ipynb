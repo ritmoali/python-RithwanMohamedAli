{
 "cells": [
  {
   "cell_type": "markdown",
   "metadata": {},
   "source": [
    "1. # Loop\n",
    "2. - Loops are repeated steps of code\n",
    "3. - Python has two primitive loop commands:\n",
    "4.    - While loops \n",
    "5.    - For loops \n"
   ]
  },
  {
   "cell_type": "markdown",
   "metadata": {},
   "source": [
    "1. # The while loop\n",
    "2. The while loop executes a set of commands as long as a condition is true.\n"
   ]
  },
  {
   "cell_type": "code",
   "execution_count": 13,
   "metadata": {},
   "outputs": [
    {
     "name": "stdout",
     "output_type": "stream",
     "text": [
      "10: Hello world\n",
      " 8: Hello world\n",
      " 6: Hello world\n",
      " 4: Hello world\n",
      " 2: Hello world\n",
      "End\n"
     ]
    }
   ],
   "source": [
    "counter = 10\n",
    "\n",
    "while counter > 0:\n",
    "    print(f\"{counter:2d}: Hello world\")\n",
    "    counter -= 2\n",
    "    \n",
    "    \n",
    "print(\"End\")\n"
   ]
  },
  {
   "cell_type": "markdown",
   "metadata": {},
   "source": [
    "1. # The Break statement\n",
    "2. - The break statement is used to stop the loop immedietly\n",
    " "
   ]
  },
  {
   "cell_type": "code",
   "execution_count": 15,
   "metadata": {},
   "outputs": [
    {
     "name": "stdout",
     "output_type": "stream",
     "text": [
      "10: Hello world \n",
      " 9: Hello world \n",
      " 8: Hello world \n",
      " 7: Hello world \n",
      " 6: Hello world \n",
      " 5: Hello world \n",
      " 4: Hello world \n",
      " 3: Hello world \n",
      " 2: Hello world \n",
      " 1: Hello world \n",
      "End\n"
     ]
    }
   ],
   "source": [
    "counter = 10 \n",
    "\n",
    "while True:\n",
    "    print(f\"{counter:2d}: Hello world \")\n",
    "    counter -= 1\n",
    "    if counter <= 0: break\n",
    "print(\"End\")\n"
   ]
  },
  {
   "cell_type": "markdown",
   "metadata": {},
   "source": [
    "1. # The continue statement\n",
    "- Used to stop the current iteration of the loop, and continues with the next."
   ]
  },
  {
   "cell_type": "code",
   "execution_count": 21,
   "metadata": {},
   "outputs": [
    {
     "name": "stdout",
     "output_type": "stream",
     "text": [
      "1: print this \n",
      "2: print this \n",
      "3: print this \n",
      "Dont print this!\n",
      "4: print this \n",
      "Dont print this!\n",
      "5: print this \n",
      "Dont print this!\n",
      "End\n"
     ]
    }
   ],
   "source": [
    "counter = 0 \n",
    "while counter < 5:\n",
    "    counter += 1\n",
    "    print(f\"{counter}: print this \")\n",
    "    if (counter < 3): continue\n",
    "    print(\"Dont print this!\")\n",
    "\n",
    "print(\"End\")\n"
   ]
  },
  {
   "cell_type": "markdown",
   "metadata": {},
   "source": [
    "1. # The Else statement\n",
    " Used to specify a block of code to be executed when the loop is finished.\n",
    "\n",
    " NOte: the else statement will not be executed if the the is stopped by a break statemnet         "
   ]
  },
  {
   "cell_type": "code",
   "execution_count": 27,
   "metadata": {},
   "outputs": [
    {
     "name": "stdout",
     "output_type": "stream",
     "text": [
      "10: Hello world\n"
     ]
    }
   ],
   "source": [
    "counter = 10\n",
    "\n",
    "while counter > 0:\n",
    "    print(f\"{counter:2d}: Hello world\")\n",
    "    counter -= 2\n",
    "    break\n",
    "\n",
    "else:\n",
    "    \n",
    "  print(\"End\")"
   ]
  }
 ],
 "metadata": {
  "kernelspec": {
   "display_name": "Python 3",
   "language": "python",
   "name": "python3"
  },
  "language_info": {
   "codemirror_mode": {
    "name": "ipython",
    "version": 3
   },
   "file_extension": ".py",
   "mimetype": "text/x-python",
   "name": "python",
   "nbconvert_exporter": "python",
   "pygments_lexer": "ipython3",
   "version": "3.11.5"
  },
  "orig_nbformat": 4
 },
 "nbformat": 4,
 "nbformat_minor": 2
}

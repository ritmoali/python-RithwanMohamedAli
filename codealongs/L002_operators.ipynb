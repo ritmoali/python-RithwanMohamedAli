{
 "cells": [
  {
   "cell_type": "markdown",
   "metadata": {},
   "source": [
    "1. # Operators\n",
    "2. An operator in programming is a symbol that tells the compiler or interpreter to perform specifik mathematical, rational or logical operation and produce final results.\n",
    "3. "
   ]
  },
  {
   "cell_type": "markdown",
   "metadata": {},
   "source": [
    "1. # Aritmetic operators\n",
    "\n",
    "2. # Addition +\n",
    "3. # subtration -\n",
    "4. # division /\n",
    "5. # multiplication *\n",
    "6. # floor division //\n",
    "7. # Modulus %\n",
    "8. # Expontentiation **"
   ]
  },
  {
   "cell_type": "code",
   "execution_count": 5,
   "metadata": {},
   "outputs": [
    {
     "name": "stdout",
     "output_type": "stream",
     "text": [
      "4.5\n",
      "4\n",
      "1\n",
      "9\n"
     ]
    }
   ],
   "source": [
    "print(9/2)\n",
    "\n",
    "print(9//2)\n",
    "print(9%2)\n",
    "\n",
    "print(3**2)"
   ]
  },
  {
   "cell_type": "markdown",
   "metadata": {},
   "source": [
    "1. # Comparison operator (sv.jämförelseoperatorer)\n",
    "2. - Equals ==\n",
    "3. - Not equal !=\n",
    "4. - Greater than >\n",
    "5. - Less or equal than <= \n",
    "4. - Greater or equal than >=\n",
    "\n"
   ]
  },
  {
   "cell_type": "code",
   "execution_count": 14,
   "metadata": {},
   "outputs": [
    {
     "name": "stdout",
     "output_type": "stream",
     "text": [
      "False\n",
      "False\n",
      "False\n"
     ]
    }
   ],
   "source": [
    "x = 6\n",
    "\n",
    "print(x == 5)\n",
    "print(5 >= 8)\n",
    "print(5 < 5)"
   ]
  },
  {
   "cell_type": "markdown",
   "metadata": {},
   "source": [
    "1. # Logical operators\n",
    "2. and ( true if both are true)\n",
    "3. or (true if oné or t´both are true)\n",
    "4. Not (true if false, false if true)"
   ]
  },
  {
   "cell_type": "code",
   "execution_count": 23,
   "metadata": {},
   "outputs": [
    {
     "name": "stdout",
     "output_type": "stream",
     "text": [
      "False\n",
      "True\n",
      "False\n",
      "False\n",
      "True\n",
      "True\n",
      "False\n"
     ]
    }
   ],
   "source": [
    "print(True and False)\n",
    "print( True or False)\n",
    "print(not True)\n",
    "\n",
    "print(5 == 5 and 7 == 8)\n",
    "\n",
    "print(\"Fredrik\" < \"Frida\")\n",
    "\n",
    "x = 15 \n",
    "\n",
    "print(x > 10 and x < 20)\n",
    "print(10 < x < 20)"
   ]
  }
 ],
 "metadata": {
  "kernelspec": {
   "display_name": "Python 3",
   "language": "python",
   "name": "python3"
  },
  "language_info": {
   "codemirror_mode": {
    "name": "ipython",
    "version": 3
   },
   "file_extension": ".py",
   "mimetype": "text/x-python",
   "name": "python",
   "nbconvert_exporter": "python",
   "pygments_lexer": "ipython3",
   "version": "3.11.5"
  },
  "orig_nbformat": 4
 },
 "nbformat": 4,
 "nbformat_minor": 2
}

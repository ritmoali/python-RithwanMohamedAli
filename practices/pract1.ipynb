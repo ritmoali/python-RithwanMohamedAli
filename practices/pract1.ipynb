{
 "cells": [
  {
   "cell_type": "markdown",
   "metadata": {},
   "source": [
    "1. # Dictionary\n",
    "- used to map keys to values"
   ]
  },
  {
   "cell_type": "code",
   "execution_count": 1,
   "metadata": {},
   "outputs": [
    {
     "name": "stdout",
     "output_type": "stream",
     "text": [
      "Laugh out loud\n"
     ]
    }
   ],
   "source": [
    "acronyms = {'LoL': 'Laugh out loud', \n",
    "            'IDK': \"I don't know\",\n",
    "            'TBH': 'To be honest'}\n",
    "\n",
    "print(acronyms['LoL'])"
   ]
  },
  {
   "cell_type": "code",
   "execution_count": 1,
   "metadata": {},
   "outputs": [
    {
     "name": "stdout",
     "output_type": "stream",
     "text": [
      "{'LoL': 'Lough out loud', 'Idk': \"I don't know\", 'Tbh': 'To be honest'}\n"
     ]
    }
   ],
   "source": [
    "acronyms1 = {}\n",
    "\n",
    "acronyms1['LoL'] = 'Lough out loud'\n",
    "acronyms1['Idk'] = \"I don't know\"\n",
    "acronyms1['Tbh'] = 'To be honest'\n",
    "print(acronyms1)\n"
   ]
  }
 ],
 "metadata": {
  "kernelspec": {
   "display_name": "Python 3",
   "language": "python",
   "name": "python3"
  },
  "language_info": {
   "codemirror_mode": {
    "name": "ipython",
    "version": 3
   },
   "file_extension": ".py",
   "mimetype": "text/x-python",
   "name": "python",
   "nbconvert_exporter": "python",
   "pygments_lexer": "ipython3",
   "version": "3.11.5"
  },
  "orig_nbformat": 4
 },
 "nbformat": 4,
 "nbformat_minor": 2
}

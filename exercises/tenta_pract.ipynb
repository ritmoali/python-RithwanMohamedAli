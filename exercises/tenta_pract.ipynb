{
 "cells": [
  {
   "cell_type": "code",
   "execution_count": 1,
   "metadata": {},
   "outputs": [
    {
     "name": "stdout",
     "output_type": "stream",
     "text": [
      "vindruva\n"
     ]
    }
   ],
   "source": [
    "#Uppgift 1 (3p)\n",
    "\n",
    "frukter = [\"jordgubbe\", \"vindruva\", \"grape\"]\n",
    "godfrukt = frukter[1:-1]\n",
    "print(godfrukt[-1])\n"
   ]
  },
  {
   "cell_type": "markdown",
   "metadata": {},
   "source": [
    "Uppgift 2 (3p)\n",
    "Skriv en funktion som tar in en radie och en höjd som inparametrar och som returnerar volymen av en cylinder.\n",
    "Volymen för en cylinder är:\n",
    "V = πr2h\n",
    "Låt användaren mata in en radie och en höjd och kör funktionen. Tänk på att ta med lämplig felhantering."
   ]
  },
  {
   "cell_type": "code",
   "execution_count": 2,
   "metadata": {},
   "outputs": [
    {
     "name": "stdout",
     "output_type": "stream",
     "text": [
      "the result of the cylinder is:1271.09 \n"
     ]
    }
   ],
   "source": [
    "#Uppgift 2 (3p)  \n",
    "import math\n",
    "def cylinder_volume(radius, height):\n",
    "      \n",
    "    try:\n",
    "        if radius < 0 or height < 0:\n",
    "            raise ValueError(\"radius and height must be positive\")\n",
    "        \n",
    "        volume= (math.pi * radius**2 * height)\n",
    "        return volume\n",
    "    \n",
    "    except ValueError as e:\n",
    "        return f\"Felaktig inmatning\" \n",
    "\n",
    "\n",
    "user_radius= float(input(\"Enter radius: \"))\n",
    "user_height= float(input(\"Enter height: \"))\n",
    "\n",
    "\n",
    "\n",
    "result = cylinder_volume(user_radius, user_height)\n",
    "print(f\"the result of the cylinder is:{result:.2f} \")"
   ]
  },
  {
   "cell_type": "markdown",
   "metadata": {},
   "source": [
    "Uppgift 3 (3p)\n",
    "Simulera 1000000 tärningskast och beräkna antalet ettor, tvåor, treor, fyror, femmor och sexor. Spara resultatet i en lämplig datastruktur."
   ]
  },
  {
   "cell_type": "code",
   "execution_count": 3,
   "metadata": {},
   "outputs": [
    {
     "ename": "TypeError",
     "evalue": "cannot unpack non-iterable int object",
     "output_type": "error",
     "traceback": [
      "\u001b[0;31m---------------------------------------------------------------------------\u001b[0m",
      "\u001b[0;31mTypeError\u001b[0m                                 Traceback (most recent call last)",
      "\u001b[1;32m/Users/rithwanali/Documents/pyhton1/python-RithwanMohamedAli/exercises/tenta_pract.ipynb Cell 5\u001b[0m line \u001b[0;36m1\n\u001b[1;32m      <a href='vscode-notebook-cell:/Users/rithwanali/Documents/pyhton1/python-RithwanMohamedAli/exercises/tenta_pract.ipynb#W4sZmlsZQ%3D%3D?line=7'>8</a>\u001b[0m     tarningssida \u001b[39m=\u001b[39m random\u001b[39m.\u001b[39mrandint(\u001b[39m1\u001b[39m, \u001b[39m6\u001b[39m)\n\u001b[1;32m      <a href='vscode-notebook-cell:/Users/rithwanali/Documents/pyhton1/python-RithwanMohamedAli/exercises/tenta_pract.ipynb#W4sZmlsZQ%3D%3D?line=8'>9</a>\u001b[0m     result_dict[tarningssida] \u001b[39m+\u001b[39m\u001b[39m=\u001b[39m \u001b[39m1\u001b[39m\n\u001b[0;32m---> <a href='vscode-notebook-cell:/Users/rithwanali/Documents/pyhton1/python-RithwanMohamedAli/exercises/tenta_pract.ipynb#W4sZmlsZQ%3D%3D?line=10'>11</a>\u001b[0m \u001b[39mfor\u001b[39;00m sida, antal \u001b[39min\u001b[39;00m result_dict:\n\u001b[1;32m     <a href='vscode-notebook-cell:/Users/rithwanali/Documents/pyhton1/python-RithwanMohamedAli/exercises/tenta_pract.ipynb#W4sZmlsZQ%3D%3D?line=11'>12</a>\u001b[0m     \u001b[39mprint\u001b[39m(\u001b[39mf\u001b[39m\u001b[39m'\u001b[39m\u001b[39m{\u001b[39;00mantal\u001b[39m}\u001b[39;00m\u001b[39m: \u001b[39m\u001b[39m{\u001b[39;00msida\u001b[39m}\u001b[39;00m\u001b[39m:\u001b[39m\u001b[39m'\u001b[39m)\n",
      "\u001b[0;31mTypeError\u001b[0m: cannot unpack non-iterable int object"
     ]
    }
   ],
   "source": [
    "import random\n",
    "\n",
    "antal_kast= 1000000\n",
    "\n",
    "result_dict= {1: 0, 2: 0, 3: 0, 4: 0, 5: 0, 6: 0}\n",
    "\n",
    "for i in range(antal_kast):\n",
    "    tarningssida = random.randint(1, 6)\n",
    "    result_dict[tarningssida] += 1\n",
    "\n",
    "for sida, antal in result_dict:\n",
    "    print(f'{antal}: {sida}:')\n",
    "\n",
    "\n",
    "        "
   ]
  },
  {
   "cell_type": "markdown",
   "metadata": {},
   "source": [
    "Uppgift 4 (3p)\n",
    "Skapa en funktion som tar in ett heltal n som parameter och skriver ut mönstret nedan. Exempel när n = 5:\n"
   ]
  },
  {
   "cell_type": "code",
   "execution_count": null,
   "metadata": {},
   "outputs": [
    {
     "name": "stdout",
     "output_type": "stream",
     "text": [
      " xx x xx x xx x xx x xx x e 0x xx 0x xx 0x xx 0x xx 0x xx e xx x xx x xx x xx x xx x \n"
     ]
    }
   ],
   "source": [
    "def draw_monster(n):\n",
    "    frukt= [\"strawberry\", \"banana\", \"grape\"]\n",
    "    godfrukt= frukt[2]\n",
    "\n",
    "    monster= \"\"\n",
    "    for _ in range(n):\n",
    "        monster += \"xx x \"\n",
    "    monster += godfrukt[-1] + \" \"\n",
    "    for _ in range(n):\n",
    "        monster += \"0x xx \"\n",
    "    monster += godfrukt[-1] + \" \"\n",
    "    for _ in range(n):\n",
    "        monster += \"xx x \"\n",
    "    \n",
    "    print(monster)\n",
    "\n",
    "draw_monster(5)\n"
   ]
  },
  {
   "cell_type": "code",
   "execution_count": null,
   "metadata": {},
   "outputs": [
    {
     "name": "stdout",
     "output_type": "stream",
     "text": [
      "1: 3\n",
      "1: 1\n",
      "1: 1\n",
      "1: 2\n"
     ]
    }
   ],
   "source": [
    "def get_money(summa):\n",
    "    Valorer= [1000, 500, 200, 100, 50, 20, 10 , 5, 2, 1]\n",
    "\n",
    "    result_dict= {}\n",
    "    for valor in Valorer:\n",
    "        antal= summa // valor\n",
    "        summa %= valor\n",
    "\n",
    "        if antal > 0:\n",
    "            result_dict[f\"{valor} {' -lapp' if valor > 10 else '-krona'}\"]= antal\n",
    "\n",
    "    for valör, antal in result_dict.items():\n",
    "        print(f\"{valor}: {antal}\")\n",
    "\n",
    "get_money(3214)"
   ]
  },
  {
   "cell_type": "code",
   "execution_count": null,
   "metadata": {},
   "outputs": [
    {
     "name": "stdout",
     "output_type": "stream",
     "text": [
      "äpple\n"
     ]
    }
   ],
   "source": [
    "#Tenta- programmering med python\n",
    "#Uppgift 1 (3p)\n",
    "foods = {\"Grönsak\": \"gurka\", \"Frukt\": \"granatäpple\", \"Bar\": \"hallon\"}\n",
    "fruit= foods[\"Frukt\"]\n",
    "print(fruit[-5:])"
   ]
  },
  {
   "cell_type": "code",
   "execution_count": 8,
   "metadata": {},
   "outputs": [
    {
     "name": "stdout",
     "output_type": "stream",
     "text": [
      "the result of radie is:9.00 \n"
     ]
    }
   ],
   "source": [
    "#Uppgift 2 (3p)\n",
    "def volume_klot(radie):\n",
    "\n",
    "    try: \n",
    "        if radie < 0:\n",
    "            raise ValueError(\"radius must be positive\")\n",
    "        \n",
    "        volume= (4 * math.pi * radie**3)//3\n",
    "        return volume\n",
    "\n",
    "    except ValueError as p:\n",
    "        return f\"felaktig inmatning\"\n",
    "    \n",
    "\n",
    "user_input= float(input(\"enter radie: \"))\n",
    "\n",
    "\n",
    "result= volume_klot(user_input)\n",
    "\n",
    "print((f\"the result of radie is:{user_input:.2f} \"))\n",
    "        "
   ]
  },
  {
   "cell_type": "code",
   "execution_count": 30,
   "metadata": {},
   "outputs": [
    {
     "name": "stdout",
     "output_type": "stream",
     "text": [
      "# # # # # # \n",
      "# # 0 0 0 # \n",
      "# 0 # 0 0 # \n",
      "# 0 0 # 0 # \n",
      "# 0 0 0 # # \n",
      "# # # # # # \n"
     ]
    }
   ],
   "source": [
    "#uppgift 3 (3p)\n",
    "\n",
    "def draw_pattern(n):\n",
    "    for i in range(n):\n",
    "        for j in range(n):\n",
    "            if i == j or j == 0 or j == n - 1 or i == 0 or i == n - 1:\n",
    "                print(\"#\", end=\" \")\n",
    "            else:\n",
    "                print(\"0\", end=\" \")\n",
    "        print()\n",
    "\n",
    "\n",
    "draw_pattern(6)"
   ]
  },
  {
   "cell_type": "code",
   "execution_count": null,
   "metadata": {},
   "outputs": [],
   "source": [
    "#Uppgift 5 (4p)\n",
    "\n",
    "def string_returner(tal):\n",
    "    \n",
    "    if tal < 0 or tal > 9999:\n",
    "        return \"talet måste vara mellan 0 till 9999\"\n",
    "    \n",
    "    enheter = [\"\", \"ett\", \"två\", \"tre\", \"fyra\", \"fem\", \"sex\", \"sju\", \"åtta\", \"nio\"]\n",
    "    tiotal= [\"\", \"tio\", \"tjugo\", \"trettio\", \"fyrtio\", \"femtio\", \"sextio\", \"sjuttio\", \"åttio\", \"nittio\"]\n",
    "    \n",
    "    special_tal= {\n",
    "        10:\"tio\", \n",
    "        11: \"elva\", \n",
    "        12: \"tolv\", \n",
    "        13: \"tretton\", \n",
    "        14: \"fiorton\",\n",
    "        15: \"femton\",\n",
    "        16: \"sexton\",\n",
    "        17: \"sjutton\",\n",
    "        18: \"arton\",\n",
    "        19: \"nitton\"}"
   ]
  }
 ],
 "metadata": {
  "kernelspec": {
   "display_name": "Python 3",
   "language": "python",
   "name": "python3"
  },
  "language_info": {
   "codemirror_mode": {
    "name": "ipython",
    "version": 3
   },
   "file_extension": ".py",
   "mimetype": "text/x-python",
   "name": "python",
   "nbconvert_exporter": "python",
   "pygments_lexer": "ipython3",
   "version": "3.11.5"
  },
  "orig_nbformat": 4
 },
 "nbformat": 4,
 "nbformat_minor": 2
}

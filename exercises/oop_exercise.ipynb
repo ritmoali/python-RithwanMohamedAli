{
 "cells": [
  {
   "cell_type": "code",
   "execution_count": 4,
   "metadata": {},
   "outputs": [
    {
     "name": "stdout",
     "output_type": "stream",
     "text": [
      "Total steps: 1000\n"
     ]
    }
   ],
   "source": [
    "#1. \n",
    "class StepTracker:\n",
    "    def __init__(self,steps):\n",
    "        self._steps = steps\n",
    "    \n",
    "    @property\n",
    "    def steps(self): \n",
    "        return self._steps\n",
    "\n",
    "    def step(self):\n",
    "        self._steps += 1\n",
    "    \n",
    "    def reset(self):\n",
    "        self._steps = 0\n",
    "    \n",
    "    \n",
    "trucker = StepTracker(0)\n",
    "\n",
    "for i in range(1000):\n",
    "    trucker.step()\n",
    "\n",
    "print(\"Total steps:\", trucker._steps)   \n",
    "\n",
    "\n",
    "\n"
   ]
  },
  {
   "cell_type": "code",
   "execution_count": 8,
   "metadata": {},
   "outputs": [
    {
     "name": "stdout",
     "output_type": "stream",
     "text": [
      "Glas is empty, filling glas\n"
     ]
    }
   ],
   "source": [
    "#2. \n",
    "class Waterholder:\n",
    "    def __init__(self, full_glass = True):\n",
    "        self._full_glass = full_glass \n",
    "\n",
    "    def filling_glass(self):\n",
    "        if self._full_glass is False:\n",
    "            print(\"Glas is empty, filling glas\")\n",
    "        else: \n",
    "            print(\"Glas is full\")\n",
    "\n",
    "g = Waterholder(False)\n",
    "\n",
    "g.filling_glass()\n",
    "\n"
   ]
  },
  {
   "cell_type": "code",
   "execution_count": 12,
   "metadata": {},
   "outputs": [
    {
     "name": "stdout",
     "output_type": "stream",
     "text": [
      "50.0\n",
      "50.0\n"
     ]
    }
   ],
   "source": [
    "#3.\n",
    "class BlueRedProperties:\n",
    "    def __init__(self):\n",
    "        self._blue = 50.0\n",
    "        self._red = 50.0\n",
    "    \n",
    "    @property\n",
    "    def red(self):\n",
    "        return self._red\n",
    "    \n",
    "    @red.setter\n",
    "    def red(self, value):\n",
    "        if 0.0 <= value <= 100:\n",
    "            self._red = value\n",
    "            self._blue = 100.0 - value\n",
    "        else:\n",
    "            raise ValueError(\"redValue must be between 0.0 and 100.0\")\n",
    "\n",
    "    @property\n",
    "    def blue(self):\n",
    "        return self._blue\n",
    "    \n",
    "\n",
    "    @blue.setter\n",
    "    def blue(self, value):\n",
    "        if 0.0 <= value <= 100.0:\n",
    "            self._blue = value\n",
    "            self._red = 100.0 - value\n",
    "        else: \n",
    "            raise ValueError(\"bluevalue must between 0.0 and 100.0\")\n",
    "    \n",
    "\n",
    "rd = BlueRedProperties()\n",
    "print(rd._blue)\n",
    "print(rd._red)\n",
    " "
   ]
  }
 ],
 "metadata": {
  "kernelspec": {
   "display_name": "Python 3",
   "language": "python",
   "name": "python3"
  },
  "language_info": {
   "codemirror_mode": {
    "name": "ipython",
    "version": 3
   },
   "file_extension": ".py",
   "mimetype": "text/x-python",
   "name": "python",
   "nbconvert_exporter": "python",
   "pygments_lexer": "ipython3",
   "version": "3.11.5"
  },
  "orig_nbformat": 4
 },
 "nbformat": 4,
 "nbformat_minor": 2
}
